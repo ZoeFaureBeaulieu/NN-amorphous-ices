{
 "cells": [
  {
   "cell_type": "code",
   "execution_count": 10,
   "metadata": {},
   "outputs": [],
   "source": [
    "import optuna"
   ]
  },
  {
   "cell_type": "code",
   "execution_count": 11,
   "metadata": {},
   "outputs": [
    {
     "name": "stderr",
     "output_type": "stream",
     "text": [
      "[I 2023-12-01 16:43:24,652] Using an existing study with name 'optimise_NN' instead of creating a new one.\n"
     ]
    }
   ],
   "source": [
    "study_name = \"optimise_NN\"  # Unique identifier of the study.\n",
    "storage_name = f\"sqlite:///{study_name}.db\"\n",
    "study = optuna.create_study(study_name=study_name, storage=storage_name, load_if_exists=True)"
   ]
  },
  {
   "cell_type": "code",
   "execution_count": 12,
   "metadata": {},
   "outputs": [],
   "source": [
    "df = study.trials_dataframe(attrs=(\"number\", \"value\", \"params\", \"state\"))"
   ]
  },
  {
   "cell_type": "code",
   "execution_count": 15,
   "metadata": {},
   "outputs": [],
   "source": [
    "# sort the trials by value\n",
    "df.sort_values(by=\"value\", ascending=False, inplace=True)"
   ]
  },
  {
   "cell_type": "code",
   "execution_count": 16,
   "metadata": {},
   "outputs": [
    {
     "data": {
      "text/html": [
       "<div>\n",
       "<style scoped>\n",
       "    .dataframe tbody tr th:only-of-type {\n",
       "        vertical-align: middle;\n",
       "    }\n",
       "\n",
       "    .dataframe tbody tr th {\n",
       "        vertical-align: top;\n",
       "    }\n",
       "\n",
       "    .dataframe thead th {\n",
       "        text-align: right;\n",
       "    }\n",
       "</style>\n",
       "<table border=\"1\" class=\"dataframe\">\n",
       "  <thead>\n",
       "    <tr style=\"text-align: right;\">\n",
       "      <th></th>\n",
       "      <th>number</th>\n",
       "      <th>value</th>\n",
       "      <th>params_learning_rate</th>\n",
       "      <th>params_n_layers</th>\n",
       "      <th>params_n_units_l0</th>\n",
       "      <th>params_weight_decay</th>\n",
       "      <th>state</th>\n",
       "    </tr>\n",
       "  </thead>\n",
       "  <tbody>\n",
       "    <tr>\n",
       "      <th>82</th>\n",
       "      <td>82</td>\n",
       "      <td>0.857914</td>\n",
       "      <td>0.000136</td>\n",
       "      <td>3</td>\n",
       "      <td>82</td>\n",
       "      <td>0.006364</td>\n",
       "      <td>COMPLETE</td>\n",
       "    </tr>\n",
       "    <tr>\n",
       "      <th>95</th>\n",
       "      <td>95</td>\n",
       "      <td>0.857698</td>\n",
       "      <td>0.000330</td>\n",
       "      <td>3</td>\n",
       "      <td>73</td>\n",
       "      <td>0.007273</td>\n",
       "      <td>COMPLETE</td>\n",
       "    </tr>\n",
       "    <tr>\n",
       "      <th>27</th>\n",
       "      <td>27</td>\n",
       "      <td>0.857695</td>\n",
       "      <td>0.000316</td>\n",
       "      <td>3</td>\n",
       "      <td>128</td>\n",
       "      <td>0.005039</td>\n",
       "      <td>COMPLETE</td>\n",
       "    </tr>\n",
       "    <tr>\n",
       "      <th>24</th>\n",
       "      <td>24</td>\n",
       "      <td>0.857629</td>\n",
       "      <td>0.000924</td>\n",
       "      <td>2</td>\n",
       "      <td>117</td>\n",
       "      <td>0.003476</td>\n",
       "      <td>COMPLETE</td>\n",
       "    </tr>\n",
       "    <tr>\n",
       "      <th>31</th>\n",
       "      <td>31</td>\n",
       "      <td>0.857506</td>\n",
       "      <td>0.000112</td>\n",
       "      <td>3</td>\n",
       "      <td>110</td>\n",
       "      <td>0.013906</td>\n",
       "      <td>COMPLETE</td>\n",
       "    </tr>\n",
       "    <tr>\n",
       "      <th>...</th>\n",
       "      <td>...</td>\n",
       "      <td>...</td>\n",
       "      <td>...</td>\n",
       "      <td>...</td>\n",
       "      <td>...</td>\n",
       "      <td>...</td>\n",
       "      <td>...</td>\n",
       "    </tr>\n",
       "    <tr>\n",
       "      <th>50</th>\n",
       "      <td>50</td>\n",
       "      <td>0.836967</td>\n",
       "      <td>0.001145</td>\n",
       "      <td>4</td>\n",
       "      <td>165</td>\n",
       "      <td>0.000130</td>\n",
       "      <td>COMPLETE</td>\n",
       "    </tr>\n",
       "    <tr>\n",
       "      <th>47</th>\n",
       "      <td>47</td>\n",
       "      <td>0.834233</td>\n",
       "      <td>0.000296</td>\n",
       "      <td>2</td>\n",
       "      <td>35</td>\n",
       "      <td>0.092648</td>\n",
       "      <td>COMPLETE</td>\n",
       "    </tr>\n",
       "    <tr>\n",
       "      <th>0</th>\n",
       "      <td>0</td>\n",
       "      <td>0.724030</td>\n",
       "      <td>0.000017</td>\n",
       "      <td>3</td>\n",
       "      <td>110</td>\n",
       "      <td>0.097190</td>\n",
       "      <td>COMPLETE</td>\n",
       "    </tr>\n",
       "    <tr>\n",
       "      <th>39</th>\n",
       "      <td>39</td>\n",
       "      <td>0.333333</td>\n",
       "      <td>0.000154</td>\n",
       "      <td>4</td>\n",
       "      <td>96</td>\n",
       "      <td>0.077242</td>\n",
       "      <td>COMPLETE</td>\n",
       "    </tr>\n",
       "    <tr>\n",
       "      <th>9</th>\n",
       "      <td>9</td>\n",
       "      <td>0.333333</td>\n",
       "      <td>0.001573</td>\n",
       "      <td>4</td>\n",
       "      <td>39</td>\n",
       "      <td>0.061781</td>\n",
       "      <td>COMPLETE</td>\n",
       "    </tr>\n",
       "  </tbody>\n",
       "</table>\n",
       "<p>110 rows × 7 columns</p>\n",
       "</div>"
      ],
      "text/plain": [
       "    number     value  params_learning_rate  params_n_layers  \\\n",
       "82      82  0.857914              0.000136                3   \n",
       "95      95  0.857698              0.000330                3   \n",
       "27      27  0.857695              0.000316                3   \n",
       "24      24  0.857629              0.000924                2   \n",
       "31      31  0.857506              0.000112                3   \n",
       "..     ...       ...                   ...              ...   \n",
       "50      50  0.836967              0.001145                4   \n",
       "47      47  0.834233              0.000296                2   \n",
       "0        0  0.724030              0.000017                3   \n",
       "39      39  0.333333              0.000154                4   \n",
       "9        9  0.333333              0.001573                4   \n",
       "\n",
       "    params_n_units_l0  params_weight_decay     state  \n",
       "82                 82             0.006364  COMPLETE  \n",
       "95                 73             0.007273  COMPLETE  \n",
       "27                128             0.005039  COMPLETE  \n",
       "24                117             0.003476  COMPLETE  \n",
       "31                110             0.013906  COMPLETE  \n",
       "..                ...                  ...       ...  \n",
       "50                165             0.000130  COMPLETE  \n",
       "47                 35             0.092648  COMPLETE  \n",
       "0                 110             0.097190  COMPLETE  \n",
       "39                 96             0.077242  COMPLETE  \n",
       "9                  39             0.061781  COMPLETE  \n",
       "\n",
       "[110 rows x 7 columns]"
      ]
     },
     "execution_count": 16,
     "metadata": {},
     "output_type": "execute_result"
    }
   ],
   "source": [
    "df"
   ]
  },
  {
   "cell_type": "code",
   "execution_count": 17,
   "metadata": {},
   "outputs": [
    {
     "data": {
      "text/plain": [
       "{'n_layers': 3,\n",
       " 'n_units_l0': 82,\n",
       " 'weight_decay': 0.006363505017122275,\n",
       " 'learning_rate': 0.0001363056995309084}"
      ]
     },
     "execution_count": 17,
     "metadata": {},
     "output_type": "execute_result"
    }
   ],
   "source": [
    "study.best_params"
   ]
  },
  {
   "cell_type": "code",
   "execution_count": null,
   "metadata": {},
   "outputs": [],
   "source": []
  }
 ],
 "metadata": {
  "kernelspec": {
   "display_name": "steinhardt",
   "language": "python",
   "name": "python3"
  },
  "language_info": {
   "codemirror_mode": {
    "name": "ipython",
    "version": 3
   },
   "file_extension": ".py",
   "mimetype": "text/x-python",
   "name": "python",
   "nbconvert_exporter": "python",
   "pygments_lexer": "ipython3",
   "version": "3.10.9"
  }
 },
 "nbformat": 4,
 "nbformat_minor": 2
}
