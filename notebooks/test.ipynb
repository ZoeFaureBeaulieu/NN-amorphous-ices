{
 "cells": [
  {
   "cell_type": "code",
   "execution_count": 1,
   "metadata": {},
   "outputs": [],
   "source": [
    "import optuna"
   ]
  },
  {
   "cell_type": "code",
   "execution_count": 3,
   "metadata": {},
   "outputs": [
    {
     "name": "stderr",
     "output_type": "stream",
     "text": [
      "[I 2023-11-30 13:46:22,359] Using an existing study with name 'optimise_NN' instead of creating a new one.\n"
     ]
    }
   ],
   "source": [
    "study_name = \"optimise_NN\"  # Unique identifier of the study.\n",
    "storage_name = f\"sqlite:///{study_name}.db\"\n",
    "study = optuna.create_study(study_name=study_name, storage=storage_name, load_if_exists=True)"
   ]
  },
  {
   "cell_type": "code",
   "execution_count": 6,
   "metadata": {},
   "outputs": [],
   "source": [
    "df = study.trials_dataframe(attrs=(\"number\", \"value\", \"params\", \"state\"))"
   ]
  },
  {
   "cell_type": "code",
   "execution_count": 7,
   "metadata": {},
   "outputs": [
    {
     "data": {
      "text/html": [
       "<div>\n",
       "<style scoped>\n",
       "    .dataframe tbody tr th:only-of-type {\n",
       "        vertical-align: middle;\n",
       "    }\n",
       "\n",
       "    .dataframe tbody tr th {\n",
       "        vertical-align: top;\n",
       "    }\n",
       "\n",
       "    .dataframe thead th {\n",
       "        text-align: right;\n",
       "    }\n",
       "</style>\n",
       "<table border=\"1\" class=\"dataframe\">\n",
       "  <thead>\n",
       "    <tr style=\"text-align: right;\">\n",
       "      <th></th>\n",
       "      <th>number</th>\n",
       "      <th>value</th>\n",
       "      <th>params_learning_rate</th>\n",
       "      <th>params_n_layers</th>\n",
       "      <th>params_n_units_l0</th>\n",
       "      <th>params_weight_decay</th>\n",
       "      <th>state</th>\n",
       "    </tr>\n",
       "  </thead>\n",
       "  <tbody>\n",
       "    <tr>\n",
       "      <th>0</th>\n",
       "      <td>0</td>\n",
       "      <td>0.724030</td>\n",
       "      <td>0.000017</td>\n",
       "      <td>3</td>\n",
       "      <td>110</td>\n",
       "      <td>0.097190</td>\n",
       "      <td>COMPLETE</td>\n",
       "    </tr>\n",
       "    <tr>\n",
       "      <th>1</th>\n",
       "      <td>1</td>\n",
       "      <td>0.855943</td>\n",
       "      <td>0.000095</td>\n",
       "      <td>5</td>\n",
       "      <td>75</td>\n",
       "      <td>0.007176</td>\n",
       "      <td>COMPLETE</td>\n",
       "    </tr>\n",
       "    <tr>\n",
       "      <th>2</th>\n",
       "      <td>2</td>\n",
       "      <td>0.852634</td>\n",
       "      <td>0.013198</td>\n",
       "      <td>4</td>\n",
       "      <td>96</td>\n",
       "      <td>0.000015</td>\n",
       "      <td>COMPLETE</td>\n",
       "    </tr>\n",
       "    <tr>\n",
       "      <th>3</th>\n",
       "      <td>3</td>\n",
       "      <td>0.855348</td>\n",
       "      <td>0.000020</td>\n",
       "      <td>4</td>\n",
       "      <td>35</td>\n",
       "      <td>0.010111</td>\n",
       "      <td>COMPLETE</td>\n",
       "    </tr>\n",
       "    <tr>\n",
       "      <th>4</th>\n",
       "      <td>4</td>\n",
       "      <td>0.855002</td>\n",
       "      <td>0.001690</td>\n",
       "      <td>1</td>\n",
       "      <td>19</td>\n",
       "      <td>0.000893</td>\n",
       "      <td>COMPLETE</td>\n",
       "    </tr>\n",
       "    <tr>\n",
       "      <th>5</th>\n",
       "      <td>5</td>\n",
       "      <td>0.849560</td>\n",
       "      <td>0.052590</td>\n",
       "      <td>4</td>\n",
       "      <td>11</td>\n",
       "      <td>0.008517</td>\n",
       "      <td>COMPLETE</td>\n",
       "    </tr>\n",
       "    <tr>\n",
       "      <th>6</th>\n",
       "      <td>6</td>\n",
       "      <td>0.856724</td>\n",
       "      <td>0.000191</td>\n",
       "      <td>1</td>\n",
       "      <td>81</td>\n",
       "      <td>0.000440</td>\n",
       "      <td>COMPLETE</td>\n",
       "    </tr>\n",
       "    <tr>\n",
       "      <th>7</th>\n",
       "      <td>7</td>\n",
       "      <td>0.855257</td>\n",
       "      <td>0.000059</td>\n",
       "      <td>3</td>\n",
       "      <td>23</td>\n",
       "      <td>0.002509</td>\n",
       "      <td>COMPLETE</td>\n",
       "    </tr>\n",
       "    <tr>\n",
       "      <th>8</th>\n",
       "      <td>8</td>\n",
       "      <td>0.854209</td>\n",
       "      <td>0.042857</td>\n",
       "      <td>3</td>\n",
       "      <td>10</td>\n",
       "      <td>0.002613</td>\n",
       "      <td>COMPLETE</td>\n",
       "    </tr>\n",
       "    <tr>\n",
       "      <th>9</th>\n",
       "      <td>9</td>\n",
       "      <td>0.333333</td>\n",
       "      <td>0.001573</td>\n",
       "      <td>4</td>\n",
       "      <td>39</td>\n",
       "      <td>0.061781</td>\n",
       "      <td>COMPLETE</td>\n",
       "    </tr>\n",
       "  </tbody>\n",
       "</table>\n",
       "</div>"
      ],
      "text/plain": [
       "   number     value  params_learning_rate  params_n_layers  params_n_units_l0  \\\n",
       "0       0  0.724030              0.000017                3                110   \n",
       "1       1  0.855943              0.000095                5                 75   \n",
       "2       2  0.852634              0.013198                4                 96   \n",
       "3       3  0.855348              0.000020                4                 35   \n",
       "4       4  0.855002              0.001690                1                 19   \n",
       "5       5  0.849560              0.052590                4                 11   \n",
       "6       6  0.856724              0.000191                1                 81   \n",
       "7       7  0.855257              0.000059                3                 23   \n",
       "8       8  0.854209              0.042857                3                 10   \n",
       "9       9  0.333333              0.001573                4                 39   \n",
       "\n",
       "   params_weight_decay     state  \n",
       "0             0.097190  COMPLETE  \n",
       "1             0.007176  COMPLETE  \n",
       "2             0.000015  COMPLETE  \n",
       "3             0.010111  COMPLETE  \n",
       "4             0.000893  COMPLETE  \n",
       "5             0.008517  COMPLETE  \n",
       "6             0.000440  COMPLETE  \n",
       "7             0.002509  COMPLETE  \n",
       "8             0.002613  COMPLETE  \n",
       "9             0.061781  COMPLETE  "
      ]
     },
     "execution_count": 7,
     "metadata": {},
     "output_type": "execute_result"
    }
   ],
   "source": [
    "df"
   ]
  },
  {
   "cell_type": "code",
   "execution_count": 9,
   "metadata": {},
   "outputs": [
    {
     "data": {
      "text/plain": [
       "{'n_layers': 1,\n",
       " 'n_units_l0': 81,\n",
       " 'weight_decay': 0.00044045441991349043,\n",
       " 'learning_rate': 0.00019123152622543303}"
      ]
     },
     "execution_count": 9,
     "metadata": {},
     "output_type": "execute_result"
    }
   ],
   "source": [
    "study.best_params"
   ]
  },
  {
   "cell_type": "code",
   "execution_count": null,
   "metadata": {},
   "outputs": [],
   "source": []
  }
 ],
 "metadata": {
  "kernelspec": {
   "display_name": "steinhardt",
   "language": "python",
   "name": "python3"
  },
  "language_info": {
   "codemirror_mode": {
    "name": "ipython",
    "version": 3
   },
   "file_extension": ".py",
   "mimetype": "text/x-python",
   "name": "python",
   "nbconvert_exporter": "python",
   "pygments_lexer": "ipython3",
   "version": "3.10.9"
  }
 },
 "nbformat": 4,
 "nbformat_minor": 2
}
