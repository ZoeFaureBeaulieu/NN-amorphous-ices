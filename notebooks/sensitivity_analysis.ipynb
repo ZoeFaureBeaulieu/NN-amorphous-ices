{
 "cells": [
  {
   "cell_type": "code",
   "execution_count": null,
   "metadata": {},
   "outputs": [],
   "source": [
    "%load_ext autoreload\n",
    "%autoreload 2\n",
    "import numpy as np\n",
    "import sys\n",
    "sys.path.append('../')\n",
    "from src.data import train_val_test_split\n",
    "from src.data import get_descriptor_and_labels"
   ]
  },
  {
   "cell_type": "markdown",
   "metadata": {},
   "source": [
    "# Sensitivity Analysis\n",
    "\n",
    "We use permutation feature importance to look at the structural characteristics which play an important role in classifying amorphous ices."
   ]
  },
  {
   "cell_type": "markdown",
   "metadata": {},
   "source": [
    "### Load in the training, validation and testing data"
   ]
  },
  {
   "cell_type": "code",
   "execution_count": null,
   "metadata": {},
   "outputs": [],
   "source": [
    "train_structs, val_structs, test_structs = train_val_test_split()"
   ]
  },
  {
   "cell_type": "code",
   "execution_count": null,
   "metadata": {},
   "outputs": [],
   "source": [
    "numb_train_samples = 8_000\n",
    "train_x, train_y, label_mapping = get_descriptor_and_labels(train_structs,num_samples_per_type=numb_train_samples)\n",
    "val_x, val_y, _ = get_descriptor_and_labels(val_structs, num_samples_per_type=2_500)\n",
    "test_x, test_y, _ = get_descriptor_and_labels(test_structs, num_samples_per_type=2_500)\n",
    "\n",
    "# need to convert one-hot vectors to integers\n",
    "train_y = np.argmax(train_y,axis=1)\n",
    "val_y = np.argmax(val_y,axis=1)\n",
    "test_y = np.argmax(test_y,axis=1)"
   ]
  },
  {
   "cell_type": "code",
   "execution_count": null,
   "metadata": {},
   "outputs": [],
   "source": [
    "# we are going to train 3 binary classifiers\n",
    "# one for each type of amorphous ice\n",
    "# we need to convert the labels to be 1 for the type of ice and 0 for the other two\n",
    "train_ys = []\n",
    "test_ys = []\n",
    "for i in range(3):\n",
    "    train_ys.append(np.where(train_y==i,1,0))\n",
    "    test_ys.append(np.where(test_y==i,1,0))"
   ]
  },
  {
   "cell_type": "markdown",
   "metadata": {},
   "source": [
    "### Define the model\n",
    "We performed sensitivity analysis on two classes on models:\n",
    "\n",
    "1. NN - Fig. 3\n",
    "\n",
    "We optimised parameters of our NN in [NN_optimisation.ipynb](NN_optimisation.ipynb). \n",
    "Here we load in those results and define our network architecture before training.\n",
    "\n",
    "2. Random Forest - Fig. S4\n",
    "\n",
    "We defined a Random Forest classifier to compare the results with our NN"
   ]
  },
  {
   "cell_type": "code",
   "execution_count": null,
   "metadata": {},
   "outputs": [],
   "source": [
    "model_choice = \"NN\""
   ]
  },
  {
   "cell_type": "code",
   "execution_count": null,
   "metadata": {},
   "outputs": [],
   "source": [
    "import optuna\n",
    "from sklearn.neural_network import MLPClassifier\n",
    "from sklearn.ensemble import RandomForestClassifier\n",
    "\n",
    "if model_choice == \"NN\":\n",
    "    study_name = \"optimise_NN\"  # Unique identifier of the study.\n",
    "    storage_name = f\"sqlite:///{study_name}.db\"\n",
    "    study = optuna.create_study(study_name=study_name, storage=storage_name, load_if_exists=True)\n",
    "    optimised_NN_params = study.best_params\n",
    "\n",
    "    n_layers, neurons_per_layer, weight_decay, lr = optimised_NN_params.values()\n",
    "    hidden_layers = [neurons_per_layer] * n_layers\n",
    "    input_size = 30 # number of features\n",
    "    output_size = 3 # number of classes (HDA, LDA, MDA)\n",
    "\n",
    "    model = MLPClassifier(hidden_layer_sizes=hidden_layers,activation='relu',solver='adam',batch_size=200,learning_rate_init=lr,alpha=weight_decay,max_iter=1000)\n",
    "elif model_choice == \"RandomForest\":\n",
    "    model = RandomForestClassifier(random_state=0, n_estimators=300)"
   ]
  },
  {
   "cell_type": "markdown",
   "metadata": {},
   "source": [
    "### Train the model"
   ]
  },
  {
   "cell_type": "code",
   "execution_count": null,
   "metadata": {},
   "outputs": [],
   "source": [
    "from sklearn.inspection import permutation_importance\n",
    "\n",
    "classification_results = {}\n",
    "struct_types = ['HDA','LDA','MDA']\n",
    "for i in range(3):\n",
    "    model.fit(train_x,train_ys[i])\n",
    "    result = permutation_importance(model, test_x, test_ys[i], n_repeats=10, random_state=42)\n",
    "    classification_results[struct_types[i]] = result"
   ]
  },
  {
   "cell_type": "code",
   "execution_count": null,
   "metadata": {},
   "outputs": [],
   "source": [
    "import matplotlib.pyplot as plt\n",
    "import pandas as pd\n",
    "import sys\n",
    "sys.path.append('../')\n",
    "from src.steinhardt import desc_to_plot_label_mapping\n",
    "\n",
    "%config InlineBackend.figure_format = 'retina'\n",
    "plt.style.use('plot.mplstyle')\n",
    "\n",
    "labels = ['HDA','LDA','MDA']\n",
    "colors = ['#ffbe0b','#7209b7','#4895ef']\n",
    "\n",
    "fig, axs = plt.subplots(3,1,figsize=(6,5),sharex=True)\n",
    "\n",
    "for i in range(3):\n",
    "    result = classification_results[struct_types[i]]\n",
    "    importances = pd.Series(result.importances_mean)\n",
    "    importances.plot.bar(ax=axs[i],color=colors[i],label=labels[i])\n",
    "    axs[i].legend()\n",
    "    axs[i].set_ylabel('Feature Importance')   \n",
    "axs[0].set_ylim(0,0.025)\n",
    "axs[1].set_ylim(0,0.07)\n",
    "axs[2].set_ylim(0,0.07)\n",
    "   \n",
    "axs[-1].set_xticks(np.arange(0,30),list(desc_to_plot_label_mapping.values()),fontsize=8);\n",
    "# reduce length of xtick \n",
    "for ax in axs:\n",
    "    ax.tick_params(axis='x', which='major', pad=5, length=0)\n",
    "    ax.tick_params(axis='y', which='major', pad=5, labelsize=10)\n",
    "    # change ytick label size\n",
    "    \n",
    "\n",
    "# make plot borders thinner\n",
    "linewidth = 1\n",
    "for ax in axs:\n",
    "    ax.spines['top'].set_linewidth(linewidth)\n",
    "    ax.spines['right'].set_linewidth(linewidth)\n",
    "    ax.spines['bottom'].set_linewidth(linewidth)\n",
    "    ax.spines['left'].set_linewidth(linewidth)\n",
    "    # ax.get_legend().get_frame().set_linewidth(0.0)\n",
    "    \n",
    "\n",
    "# remove the box around the legend\n",
    "axs[0].get_legend().get_frame().set_linewidth(0.0)\n",
    "\n",
    "fig.tight_layout()\n",
    "# plt.savefig('../figures/feature_importance_RandomForest.svg',dpi=300,bbox_inches='tight')"
   ]
  },
  {
   "cell_type": "code",
   "execution_count": null,
   "metadata": {},
   "outputs": [],
   "source": []
  }
 ],
 "metadata": {
  "kernelspec": {
   "display_name": "steinhardt",
   "language": "python",
   "name": "python3"
  },
  "language_info": {
   "codemirror_mode": {
    "name": "ipython",
    "version": 3
   },
   "file_extension": ".py",
   "mimetype": "text/x-python",
   "name": "python",
   "nbconvert_exporter": "python",
   "pygments_lexer": "ipython3",
   "version": "3.10.9"
  }
 },
 "nbformat": 4,
 "nbformat_minor": 2
}
